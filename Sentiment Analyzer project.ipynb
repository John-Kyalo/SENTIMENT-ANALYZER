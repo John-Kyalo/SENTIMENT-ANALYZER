{
 "cells": [
  {
   "cell_type": "markdown",
   "id": "6543723c",
   "metadata": {},
   "source": [
    "Step 0: A sentiment analyzer that reviews messages from Amazon to determine whether positive or Negative. Acts as a decision making tool."
   ]
  },
  {
   "cell_type": "markdown",
   "id": "86797a70",
   "metadata": {},
   "source": [
    "Step 1: IMPORT LIBRARIES AND MODULES"
   ]
  },
  {
   "cell_type": "code",
   "execution_count": 2,
   "id": "ddc06a99",
   "metadata": {
    "scrolled": true
   },
   "outputs": [
    {
     "name": "stdout",
     "output_type": "stream",
     "text": [
      "Requirement already satisfied: wordcloud in c:\\users\\user\\anaconda3\\lib\\site-packages (1.8.2.2)\n",
      "Requirement already satisfied: matplotlib in c:\\users\\user\\anaconda3\\lib\\site-packages (from wordcloud) (3.5.2)\n",
      "Requirement already satisfied: pillow in c:\\users\\user\\anaconda3\\lib\\site-packages (from wordcloud) (9.2.0)\n",
      "Requirement already satisfied: numpy>=1.6.1 in c:\\users\\user\\anaconda3\\lib\\site-packages (from wordcloud) (1.21.5)\n",
      "Requirement already satisfied: cycler>=0.10 in c:\\users\\user\\anaconda3\\lib\\site-packages (from matplotlib->wordcloud) (0.11.0)\n",
      "Requirement already satisfied: pyparsing>=2.2.1 in c:\\users\\user\\anaconda3\\lib\\site-packages (from matplotlib->wordcloud) (3.0.9)\n",
      "Requirement already satisfied: python-dateutil>=2.7 in c:\\users\\user\\anaconda3\\lib\\site-packages (from matplotlib->wordcloud) (2.8.2)\n",
      "Requirement already satisfied: packaging>=20.0 in c:\\users\\user\\anaconda3\\lib\\site-packages (from matplotlib->wordcloud) (21.3)\n",
      "Requirement already satisfied: fonttools>=4.22.0 in c:\\users\\user\\anaconda3\\lib\\site-packages (from matplotlib->wordcloud) (4.25.0)\n",
      "Requirement already satisfied: kiwisolver>=1.0.1 in c:\\users\\user\\anaconda3\\lib\\site-packages (from matplotlib->wordcloud) (1.4.2)\n",
      "Requirement already satisfied: six>=1.5 in c:\\users\\user\\anaconda3\\lib\\site-packages (from python-dateutil>=2.7->matplotlib->wordcloud) (1.16.0)\n",
      "Note: you may need to restart the kernel to use updated packages.\n"
     ]
    }
   ],
   "source": [
    "pip install wordcloud"
   ]
  },
  {
   "cell_type": "code",
   "execution_count": 3,
   "id": "ebc097da",
   "metadata": {},
   "outputs": [
    {
     "name": "stdout",
     "output_type": "stream",
     "text": [
      "Requirement already satisfied: textblob in c:\\users\\user\\anaconda3\\lib\\site-packages (0.17.1)\n",
      "Requirement already satisfied: nltk>=3.1 in c:\\users\\user\\anaconda3\\lib\\site-packages (from textblob) (3.7)\n",
      "Requirement already satisfied: joblib in c:\\users\\user\\anaconda3\\lib\\site-packages (from nltk>=3.1->textblob) (1.1.0)\n",
      "Requirement already satisfied: regex>=2021.8.3 in c:\\users\\user\\anaconda3\\lib\\site-packages (from nltk>=3.1->textblob) (2022.7.9)\n",
      "Requirement already satisfied: tqdm in c:\\users\\user\\anaconda3\\lib\\site-packages (from nltk>=3.1->textblob) (4.64.1)\n",
      "Requirement already satisfied: click in c:\\users\\user\\anaconda3\\lib\\site-packages (from nltk>=3.1->textblob) (8.0.4)\n",
      "Requirement already satisfied: colorama in c:\\users\\user\\anaconda3\\lib\\site-packages (from click->nltk>=3.1->textblob) (0.4.5)\n",
      "Note: you may need to restart the kernel to use updated packages.\n"
     ]
    }
   ],
   "source": [
    "pip install textblob"
   ]
  },
  {
   "cell_type": "code",
   "execution_count": 4,
   "id": "192d3a44",
   "metadata": {},
   "outputs": [],
   "source": [
    "from warnings import filterwarnings\n",
    "import matplotlib.pyplot as plt\n",
    "import numpy as np\n",
    "import pandas as pd\n",
    "from PIL import Image\n",
    "from nltk.corpus import stopwords\n",
    "from nltk.sentiment import SentimentIntensityAnalyzer\n",
    "from sklearn.ensemble import RandomForestClassifier\n",
    "from sklearn.linear_model import LogisticRegression\n",
    "from sklearn.model_selection import cross_val_score, GridSearchCV, cross_validate\n",
    "from sklearn.preprocessing import LabelEncoder\n",
    "from textblob import Word, TextBlob\n",
    "from wordcloud import WordCloud\n",
    "from nltk.stem.porter import PorterStemmer\n",
    "from nltk.tokenize import word_tokenize\n",
    "from nltk import pos_tag\n",
    "\n",
    "filterwarnings('ignore')\n",
    "pd.set_option('display.max_columns', None)\n",
    "pd.set_option('display.width', 200)\n",
    "pd.set_option('display.float_format', lambda x: '%.2f' % x)"
   ]
  },
  {
   "cell_type": "markdown",
   "id": "aaa57e68",
   "metadata": {},
   "source": [
    "Step 2: LOAD DATASET"
   ]
  },
  {
   "cell_type": "code",
   "execution_count": 5,
   "id": "e078c299",
   "metadata": {
    "scrolled": true
   },
   "outputs": [
    {
     "data": {
      "text/html": [
       "<div>\n",
       "<style scoped>\n",
       "    .dataframe tbody tr th:only-of-type {\n",
       "        vertical-align: middle;\n",
       "    }\n",
       "\n",
       "    .dataframe tbody tr th {\n",
       "        vertical-align: top;\n",
       "    }\n",
       "\n",
       "    .dataframe thead th {\n",
       "        text-align: right;\n",
       "    }\n",
       "</style>\n",
       "<table border=\"1\" class=\"dataframe\">\n",
       "  <thead>\n",
       "    <tr style=\"text-align: right;\">\n",
       "      <th></th>\n",
       "      <th>reviewerID</th>\n",
       "      <th>asin</th>\n",
       "      <th>reviewerName</th>\n",
       "      <th>helpful</th>\n",
       "      <th>reviewText</th>\n",
       "      <th>overall</th>\n",
       "      <th>summary</th>\n",
       "      <th>unixReviewTime</th>\n",
       "      <th>reviewTime</th>\n",
       "      <th>day_diff</th>\n",
       "      <th>helpful_yes</th>\n",
       "      <th>total_vote</th>\n",
       "    </tr>\n",
       "  </thead>\n",
       "  <tbody>\n",
       "    <tr>\n",
       "      <th>0</th>\n",
       "      <td>A3SBTW3WS4IQSN</td>\n",
       "      <td>B007WTAJTO</td>\n",
       "      <td>NaN</td>\n",
       "      <td>[0, 0]</td>\n",
       "      <td>No issues.</td>\n",
       "      <td>4.00</td>\n",
       "      <td>Four Stars</td>\n",
       "      <td>1406073600</td>\n",
       "      <td>2014-07-23</td>\n",
       "      <td>138</td>\n",
       "      <td>0</td>\n",
       "      <td>0</td>\n",
       "    </tr>\n",
       "    <tr>\n",
       "      <th>1</th>\n",
       "      <td>A18K1ODH1I2MVB</td>\n",
       "      <td>B007WTAJTO</td>\n",
       "      <td>0mie</td>\n",
       "      <td>[0, 0]</td>\n",
       "      <td>Purchased this for my device, it worked as adv...</td>\n",
       "      <td>5.00</td>\n",
       "      <td>MOAR SPACE!!!</td>\n",
       "      <td>1382659200</td>\n",
       "      <td>2013-10-25</td>\n",
       "      <td>409</td>\n",
       "      <td>0</td>\n",
       "      <td>0</td>\n",
       "    </tr>\n",
       "    <tr>\n",
       "      <th>2</th>\n",
       "      <td>A2FII3I2MBMUIA</td>\n",
       "      <td>B007WTAJTO</td>\n",
       "      <td>1K3</td>\n",
       "      <td>[0, 0]</td>\n",
       "      <td>it works as expected. I should have sprung for...</td>\n",
       "      <td>4.00</td>\n",
       "      <td>nothing to really say....</td>\n",
       "      <td>1356220800</td>\n",
       "      <td>2012-12-23</td>\n",
       "      <td>715</td>\n",
       "      <td>0</td>\n",
       "      <td>0</td>\n",
       "    </tr>\n",
       "    <tr>\n",
       "      <th>3</th>\n",
       "      <td>A3H99DFEG68SR</td>\n",
       "      <td>B007WTAJTO</td>\n",
       "      <td>1m2</td>\n",
       "      <td>[0, 0]</td>\n",
       "      <td>This think has worked out great.Had a diff. br...</td>\n",
       "      <td>5.00</td>\n",
       "      <td>Great buy at this price!!!  *** UPDATE</td>\n",
       "      <td>1384992000</td>\n",
       "      <td>2013-11-21</td>\n",
       "      <td>382</td>\n",
       "      <td>0</td>\n",
       "      <td>0</td>\n",
       "    </tr>\n",
       "    <tr>\n",
       "      <th>4</th>\n",
       "      <td>A375ZM4U047O79</td>\n",
       "      <td>B007WTAJTO</td>\n",
       "      <td>2&amp;amp;1/2Men</td>\n",
       "      <td>[0, 0]</td>\n",
       "      <td>Bought it with Retail Packaging, arrived legit...</td>\n",
       "      <td>5.00</td>\n",
       "      <td>best deal around</td>\n",
       "      <td>1373673600</td>\n",
       "      <td>2013-07-13</td>\n",
       "      <td>513</td>\n",
       "      <td>0</td>\n",
       "      <td>0</td>\n",
       "    </tr>\n",
       "  </tbody>\n",
       "</table>\n",
       "</div>"
      ],
      "text/plain": [
       "       reviewerID        asin  reviewerName helpful                                         reviewText  overall                                 summary  unixReviewTime  reviewTime  day_diff  \\\n",
       "0  A3SBTW3WS4IQSN  B007WTAJTO           NaN  [0, 0]                                         No issues.     4.00                              Four Stars      1406073600  2014-07-23       138   \n",
       "1  A18K1ODH1I2MVB  B007WTAJTO          0mie  [0, 0]  Purchased this for my device, it worked as adv...     5.00                           MOAR SPACE!!!      1382659200  2013-10-25       409   \n",
       "2  A2FII3I2MBMUIA  B007WTAJTO           1K3  [0, 0]  it works as expected. I should have sprung for...     4.00               nothing to really say....      1356220800  2012-12-23       715   \n",
       "3   A3H99DFEG68SR  B007WTAJTO           1m2  [0, 0]  This think has worked out great.Had a diff. br...     5.00  Great buy at this price!!!  *** UPDATE      1384992000  2013-11-21       382   \n",
       "4  A375ZM4U047O79  B007WTAJTO  2&amp;1/2Men  [0, 0]  Bought it with Retail Packaging, arrived legit...     5.00                        best deal around      1373673600  2013-07-13       513   \n",
       "\n",
       "   helpful_yes  total_vote  \n",
       "0            0           0  \n",
       "1            0           0  \n",
       "2            0           0  \n",
       "3            0           0  \n",
       "4            0           0  "
      ]
     },
     "execution_count": 5,
     "metadata": {},
     "output_type": "execute_result"
    }
   ],
   "source": [
    "df=pd.read_csv(\"amazon_reviews.csv\")\n",
    "df.head()"
   ]
  },
  {
   "cell_type": "markdown",
   "id": "25debc98",
   "metadata": {},
   "source": [
    "Step 3: TEXT PREPROCESSING"
   ]
  },
  {
   "cell_type": "code",
   "execution_count": 6,
   "id": "7d8573a8",
   "metadata": {},
   "outputs": [],
   "source": [
    "#converting text to lowercase\n",
    "df['reviewText'] = df['reviewText'].str.lower()\n",
    "\n",
    "# Punctuations\n",
    "df['reviewText'] = df['reviewText'].str.replace('[^\\w\\s]', '')\n",
    "\n",
    "# Numbers\n",
    "df['reviewText'] = df['reviewText'].str.replace('\\d', '')"
   ]
  },
  {
   "cell_type": "code",
   "execution_count": 7,
   "id": "c0fc810c",
   "metadata": {},
   "outputs": [
    {
     "name": "stderr",
     "output_type": "stream",
     "text": [
      "[nltk_data] Downloading package stopwords to\n",
      "[nltk_data]     C:\\Users\\USER\\AppData\\Roaming\\nltk_data...\n",
      "[nltk_data]   Package stopwords is already up-to-date!\n"
     ]
    }
   ],
   "source": [
    "# STOPWORDS\n",
    "import nltk\n",
    "nltk.download('stopwords')\n",
    "sw = stopwords.words('english')\n",
    "df['reviewText'] = df['reviewText'].apply(lambda x: \" \".join(x for x in str(x).split() if x not in sw))"
   ]
  },
  {
   "cell_type": "code",
   "execution_count": 8,
   "id": "14bc18fa",
   "metadata": {},
   "outputs": [],
   "source": [
    "# Rarewords\n",
    "\n",
    "drops = pd.Series(' '.join(df['reviewText']).split()).value_counts()[-1000:]\n",
    "df['reviewText'] = df['reviewText'].apply(lambda x: \" \".join(x for x in x.split() if x not in drops))"
   ]
  },
  {
   "cell_type": "code",
   "execution_count": 9,
   "id": "f4fa2673",
   "metadata": {},
   "outputs": [
    {
     "data": {
      "text/plain": [
       "0                                             [issues]\n",
       "1    [purchased, device, worked, advertised, never,...\n",
       "2    [works, expected, sprung, higher, capacity, th...\n",
       "3    [think, worked, greathad, diff, bran, gb, card...\n",
       "4    [bought, retail, packaging, arrived, legit, or...\n",
       "Name: reviewText, dtype: object"
      ]
     },
     "execution_count": 9,
     "metadata": {},
     "output_type": "execute_result"
    }
   ],
   "source": [
    "# TOKENIZATION\n",
    "\n",
    "# nltk.download(\"punkt\")\n",
    "df[\"reviewText\"].apply(lambda x: TextBlob(x).words).head()"
   ]
  },
  {
   "cell_type": "code",
   "execution_count": 10,
   "id": "d180e0e8",
   "metadata": {},
   "outputs": [
    {
     "data": {
      "text/plain": [
       "0                                                issue\n",
       "1    purchased device worked advertised never much ...\n",
       "2    work expected sprung higher capacity think mad...\n",
       "3    think worked greathad diff bran gb card went s...\n",
       "4    bought retail packaging arrived legit orange e...\n",
       "5    mini storage doesnt anything else supposed pur...\n",
       "6    phone never skip beat file transfer speedy cor...\n",
       "7    hard believe affordable digital become gb devi...\n",
       "8    work htc rezound running short space gb sandis...\n",
       "9    galaxy super fast card totally happy happy sti...\n",
       "Name: reviewText, dtype: object"
      ]
     },
     "execution_count": 10,
     "metadata": {},
     "output_type": "execute_result"
    }
   ],
   "source": [
    "# LEMMATIZATION\n",
    "\n",
    "# nltk.download('wordnet')\n",
    "df['reviewText'] = df['reviewText'].apply(lambda x: \" \".join([Word(word).lemmatize() for word in x.split()]))\n",
    "\n",
    "df['reviewText'].head(10)"
   ]
  },
  {
   "cell_type": "code",
   "execution_count": 11,
   "id": "58eb969b",
   "metadata": {},
   "outputs": [
    {
     "data": {
      "text/plain": [
       "0                                                 issu\n",
       "1    purchas devic work advertis never much phone m...\n",
       "2    work expect sprung higher capac think made bit...\n",
       "3    think work greathad diff bran gb card went sou...\n",
       "4    bought retail packag arriv legit orang envelop...\n",
       "5    mini storag doesnt anyth els suppos purchas ad...\n",
       "6    phone never skip beat file transfer speedi cor...\n",
       "7    hard believ afford digit becom gb devic one qu...\n",
       "8    work htc rezound run short space gb sandisk or...\n",
       "9    galaxi super fast card total happi happi still...\n",
       "Name: reviewText, dtype: object"
      ]
     },
     "execution_count": 11,
     "metadata": {},
     "output_type": "execute_result"
    }
   ],
   "source": [
    "#STEMMING\n",
    "# create an instance of PorterStemmer\n",
    "porter = PorterStemmer()\n",
    "\n",
    "# define a function to apply stemming to each word in a sentence\n",
    "def stem_words(text):\n",
    "    return \" \".join([porter.stem(word) for word in text.split()])\n",
    "\n",
    "# apply stemming to the 'reviewText' column in your DataFrame\n",
    "df['reviewText'] = df['reviewText'].apply(stem_words)\n",
    "\n",
    "# display the first 10 rows of the 'reviewText' column\n",
    "df['reviewText'].head(10)\n"
   ]
  },
  {
   "cell_type": "markdown",
   "id": "9f8d1db9",
   "metadata": {},
   "source": [
    "Step 4: TEXT VISUALIZATION"
   ]
  },
  {
   "cell_type": "code",
   "execution_count": 12,
   "id": "d807eaca",
   "metadata": {},
   "outputs": [
    {
     "data": {
      "text/html": [
       "<div>\n",
       "<style scoped>\n",
       "    .dataframe tbody tr th:only-of-type {\n",
       "        vertical-align: middle;\n",
       "    }\n",
       "\n",
       "    .dataframe tbody tr th {\n",
       "        vertical-align: top;\n",
       "    }\n",
       "\n",
       "    .dataframe thead th {\n",
       "        text-align: right;\n",
       "    }\n",
       "</style>\n",
       "<table border=\"1\" class=\"dataframe\">\n",
       "  <thead>\n",
       "    <tr style=\"text-align: right;\">\n",
       "      <th></th>\n",
       "      <th>words</th>\n",
       "      <th>tf</th>\n",
       "    </tr>\n",
       "  </thead>\n",
       "  <tbody>\n",
       "    <tr>\n",
       "      <th>0</th>\n",
       "      <td>issu</td>\n",
       "      <td>2.00</td>\n",
       "    </tr>\n",
       "    <tr>\n",
       "      <th>1</th>\n",
       "      <td>purchas devic work advertis never much phone m...</td>\n",
       "      <td>1.00</td>\n",
       "    </tr>\n",
       "    <tr>\n",
       "      <th>2</th>\n",
       "      <td>work expect sprung higher capac think made bit...</td>\n",
       "      <td>1.00</td>\n",
       "    </tr>\n",
       "    <tr>\n",
       "      <th>3</th>\n",
       "      <td>think work greathad diff bran gb card went sou...</td>\n",
       "      <td>1.00</td>\n",
       "    </tr>\n",
       "    <tr>\n",
       "      <th>4</th>\n",
       "      <td>bought retail packag arriv legit orang envelop...</td>\n",
       "      <td>1.00</td>\n",
       "    </tr>\n",
       "  </tbody>\n",
       "</table>\n",
       "</div>"
      ],
      "text/plain": [
       "                                               words   tf\n",
       "0                                               issu 2.00\n",
       "1  purchas devic work advertis never much phone m... 1.00\n",
       "2  work expect sprung higher capac think made bit... 1.00\n",
       "3  think work greathad diff bran gb card went sou... 1.00\n",
       "4  bought retail packag arriv legit orang envelop... 1.00"
      ]
     },
     "execution_count": 12,
     "metadata": {},
     "output_type": "execute_result"
    }
   ],
   "source": [
    "#term frequency\n",
    "\n",
    "tf = df[\"reviewText\"].apply(lambda x: pd.Series(x).value_counts()).sum(axis=0).reset_index()\n",
    "tf.columns = [\"words\", \"tf\"]\n",
    "tf.head()\n"
   ]
  },
  {
   "cell_type": "code",
   "execution_count": 13,
   "id": "6cf05618",
   "metadata": {},
   "outputs": [
    {
     "data": {
      "text/plain": [
       "(4911, 2)"
      ]
     },
     "execution_count": 13,
     "metadata": {},
     "output_type": "execute_result"
    }
   ],
   "source": [
    "tf.shape"
   ]
  },
  {
   "cell_type": "code",
   "execution_count": 14,
   "id": "867c385a",
   "metadata": {},
   "outputs": [
    {
     "data": {
      "text/plain": [
       "count   4911.00\n",
       "mean       1.00\n",
       "std        0.03\n",
       "min        1.00\n",
       "5%         1.00\n",
       "10%        1.00\n",
       "25%        1.00\n",
       "50%        1.00\n",
       "75%        1.00\n",
       "80%        1.00\n",
       "90%        1.00\n",
       "95%        1.00\n",
       "99%        1.00\n",
       "max        2.00\n",
       "Name: tf, dtype: float64"
      ]
     },
     "execution_count": 14,
     "metadata": {},
     "output_type": "execute_result"
    }
   ],
   "source": [
    "tf[\"tf\"].describe([0.05, 0.10, 0.25, 0.50, 0.75, 0.80, 0.90, 0.95, 0.99]).T"
   ]
  },
  {
   "cell_type": "code",
   "execution_count": 15,
   "id": "9f805179",
   "metadata": {},
   "outputs": [
    {
     "data": {
      "image/png": "[encoded data removed]",
      "text/plain": [
       "<Figure size 640x480 with 1 Axes>"
      ]
     },
     "metadata": {},
     "output_type": "display_data"
    }
   ],
   "source": [
    "# Barplot\n",
    "\n",
    "tf[tf[\"tf\"] > 1].plot.bar(x=\"words\", y=\"tf\")\n",
    "plt.show()"
   ]
  },
  {
   "cell_type": "code",
   "execution_count": 16,
   "id": "994f6796",
   "metadata": {},
   "outputs": [
    {
     "data": {
      "image/png": "[encoded data removed]",
      "text/plain": [
       "<Figure size 640x480 with 1 Axes>"
      ]
     },
     "metadata": {},
     "output_type": "display_data"
    }
   ],
   "source": [
    "# Wordcloud\n",
    "\n",
    "#convert all values in the reviewtext column to strings\n",
    "df[\"reviewText\"] = df[\"reviewText\"].astype(str)\n",
    "\n",
    "text = \" \".join(i for i in df.reviewText)\n",
    "wordcloud = WordCloud().generate(text)\n",
    "plt.imshow(wordcloud, interpolation=\"bilinear\")\n",
    "plt.axis(\"off\")\n",
    "plt.show()"
   ]
  },
  {
   "cell_type": "markdown",
   "id": "e36610fa",
   "metadata": {},
   "source": [
    "Step 5: ANALYSIS AND TRAINING"
   ]
  },
  {
   "cell_type": "code",
   "execution_count": 17,
   "id": "980fa4a7",
   "metadata": {},
   "outputs": [
    {
     "data": {
      "text/html": [
       "<div>\n",
       "<style scoped>\n",
       "    .dataframe tbody tr th:only-of-type {\n",
       "        vertical-align: middle;\n",
       "    }\n",
       "\n",
       "    .dataframe tbody tr th {\n",
       "        vertical-align: top;\n",
       "    }\n",
       "\n",
       "    .dataframe thead th {\n",
       "        text-align: right;\n",
       "    }\n",
       "</style>\n",
       "<table border=\"1\" class=\"dataframe\">\n",
       "  <thead>\n",
       "    <tr style=\"text-align: right;\">\n",
       "      <th></th>\n",
       "      <th>reviewerID</th>\n",
       "      <th>asin</th>\n",
       "      <th>reviewerName</th>\n",
       "      <th>helpful</th>\n",
       "      <th>reviewText</th>\n",
       "      <th>overall</th>\n",
       "      <th>summary</th>\n",
       "      <th>unixReviewTime</th>\n",
       "      <th>reviewTime</th>\n",
       "      <th>day_diff</th>\n",
       "      <th>helpful_yes</th>\n",
       "      <th>total_vote</th>\n",
       "    </tr>\n",
       "  </thead>\n",
       "  <tbody>\n",
       "    <tr>\n",
       "      <th>0</th>\n",
       "      <td>A3SBTW3WS4IQSN</td>\n",
       "      <td>B007WTAJTO</td>\n",
       "      <td>NaN</td>\n",
       "      <td>[0, 0]</td>\n",
       "      <td>issu</td>\n",
       "      <td>4.00</td>\n",
       "      <td>Four Stars</td>\n",
       "      <td>1406073600</td>\n",
       "      <td>2014-07-23</td>\n",
       "      <td>138</td>\n",
       "      <td>0</td>\n",
       "      <td>0</td>\n",
       "    </tr>\n",
       "    <tr>\n",
       "      <th>1</th>\n",
       "      <td>A18K1ODH1I2MVB</td>\n",
       "      <td>B007WTAJTO</td>\n",
       "      <td>0mie</td>\n",
       "      <td>[0, 0]</td>\n",
       "      <td>purchas devic work advertis never much phone m...</td>\n",
       "      <td>5.00</td>\n",
       "      <td>MOAR SPACE!!!</td>\n",
       "      <td>1382659200</td>\n",
       "      <td>2013-10-25</td>\n",
       "      <td>409</td>\n",
       "      <td>0</td>\n",
       "      <td>0</td>\n",
       "    </tr>\n",
       "    <tr>\n",
       "      <th>2</th>\n",
       "      <td>A2FII3I2MBMUIA</td>\n",
       "      <td>B007WTAJTO</td>\n",
       "      <td>1K3</td>\n",
       "      <td>[0, 0]</td>\n",
       "      <td>work expect sprung higher capac think made bit...</td>\n",
       "      <td>4.00</td>\n",
       "      <td>nothing to really say....</td>\n",
       "      <td>1356220800</td>\n",
       "      <td>2012-12-23</td>\n",
       "      <td>715</td>\n",
       "      <td>0</td>\n",
       "      <td>0</td>\n",
       "    </tr>\n",
       "    <tr>\n",
       "      <th>3</th>\n",
       "      <td>A3H99DFEG68SR</td>\n",
       "      <td>B007WTAJTO</td>\n",
       "      <td>1m2</td>\n",
       "      <td>[0, 0]</td>\n",
       "      <td>think work greathad diff bran gb card went sou...</td>\n",
       "      <td>5.00</td>\n",
       "      <td>Great buy at this price!!!  *** UPDATE</td>\n",
       "      <td>1384992000</td>\n",
       "      <td>2013-11-21</td>\n",
       "      <td>382</td>\n",
       "      <td>0</td>\n",
       "      <td>0</td>\n",
       "    </tr>\n",
       "    <tr>\n",
       "      <th>4</th>\n",
       "      <td>A375ZM4U047O79</td>\n",
       "      <td>B007WTAJTO</td>\n",
       "      <td>2&amp;amp;1/2Men</td>\n",
       "      <td>[0, 0]</td>\n",
       "      <td>bought retail packag arriv legit orang envelop...</td>\n",
       "      <td>5.00</td>\n",
       "      <td>best deal around</td>\n",
       "      <td>1373673600</td>\n",
       "      <td>2013-07-13</td>\n",
       "      <td>513</td>\n",
       "      <td>0</td>\n",
       "      <td>0</td>\n",
       "    </tr>\n",
       "  </tbody>\n",
       "</table>\n",
       "</div>"
      ],
      "text/plain": [
       "       reviewerID        asin  reviewerName helpful                                         reviewText  overall                                 summary  unixReviewTime  reviewTime  day_diff  \\\n",
       "0  A3SBTW3WS4IQSN  B007WTAJTO           NaN  [0, 0]                                               issu     4.00                              Four Stars      1406073600  2014-07-23       138   \n",
       "1  A18K1ODH1I2MVB  B007WTAJTO          0mie  [0, 0]  purchas devic work advertis never much phone m...     5.00                           MOAR SPACE!!!      1382659200  2013-10-25       409   \n",
       "2  A2FII3I2MBMUIA  B007WTAJTO           1K3  [0, 0]  work expect sprung higher capac think made bit...     4.00               nothing to really say....      1356220800  2012-12-23       715   \n",
       "3   A3H99DFEG68SR  B007WTAJTO           1m2  [0, 0]  think work greathad diff bran gb card went sou...     5.00  Great buy at this price!!!  *** UPDATE      1384992000  2013-11-21       382   \n",
       "4  A375ZM4U047O79  B007WTAJTO  2&amp;1/2Men  [0, 0]  bought retail packag arriv legit orang envelop...     5.00                        best deal around      1373673600  2013-07-13       513   \n",
       "\n",
       "   helpful_yes  total_vote  \n",
       "0            0           0  \n",
       "1            0           0  \n",
       "2            0           0  \n",
       "3            0           0  \n",
       "4            0           0  "
      ]
     },
     "execution_count": 17,
     "metadata": {},
     "output_type": "execute_result"
    }
   ],
   "source": [
    "df.head()"
   ]
  },
  {
   "cell_type": "code",
   "execution_count": 18,
   "id": "c8114cc9",
   "metadata": {},
   "outputs": [
    {
     "name": "stderr",
     "output_type": "stream",
     "text": [
      "[nltk_data] Downloading package vader_lexicon to\n",
      "[nltk_data]     C:\\Users\\USER\\AppData\\Roaming\\nltk_data...\n",
      "[nltk_data]   Package vader_lexicon is already up-to-date!\n"
     ]
    }
   ],
   "source": [
    " nltk.download('vader_lexicon')\n",
    "sia = SentimentIntensityAnalyzer()"
   ]
  },
  {
   "cell_type": "code",
   "execution_count": 46,
   "id": "d13e7a87",
   "metadata": {},
   "outputs": [
    {
     "data": {
      "text/plain": [
       "{'neg': 0.0, 'neu': 0.423, 'pos': 0.577, 'compound': 0.6249}"
      ]
     },
     "execution_count": 46,
     "metadata": {},
     "output_type": "execute_result"
    }
   ],
   "source": [
    "sia.polarity_scores(\"The film was awesome\")"
   ]
  },
  {
   "cell_type": "code",
   "execution_count": 20,
   "id": "7cdc8410",
   "metadata": {},
   "outputs": [
    {
     "data": {
      "text/plain": [
       "{'neg': 0.207, 'neu': 0.666, 'pos': 0.127, 'compound': -0.298}"
      ]
     },
     "execution_count": 20,
     "metadata": {},
     "output_type": "execute_result"
    }
   ],
   "source": [
    "sia.polarity_scores(\"I liked this music but it is not good as the other one\")"
   ]
  },
  {
   "cell_type": "code",
   "execution_count": 21,
   "id": "8396b8cf",
   "metadata": {},
   "outputs": [
    {
     "data": {
      "text/plain": [
       "0                                                    ISSU\n",
       "1       PURCHAS DEVIC WORK ADVERTIS NEVER MUCH PHONE M...\n",
       "2       WORK EXPECT SPRUNG HIGHER CAPAC THINK MADE BIT...\n",
       "3       THINK WORK GREATHAD DIFF BRAN GB CARD WENT SOU...\n",
       "4       BOUGHT RETAIL PACKAG ARRIV LEGIT ORANG ENVELOP...\n",
       "                              ...                        \n",
       "4910    BOUGHT SANDISK GB CLASS USE HTC INSPIR MONTH G...\n",
       "4911    USE EXTEND CAPABL SAMSUNG GALAXI NOTE GREATLI ...\n",
       "4912    GREAT CARD FAST RELIABL COME OPTION ADAPT SD S...\n",
       "4913           GOOD AMOUNT SPACE STUFF WANT FIT GOPRO SAY\n",
       "4914    IVE HEARD BAD THING GB MICRO SD CARD CRAP WEEK...\n",
       "Name: reviewText, Length: 4915, dtype: object"
      ]
     },
     "execution_count": 21,
     "metadata": {},
     "output_type": "execute_result"
    }
   ],
   "source": [
    "df[\"reviewText\"].apply(lambda x: x.upper())"
   ]
  },
  {
   "cell_type": "code",
   "execution_count": 22,
   "id": "1639cc9b",
   "metadata": {},
   "outputs": [
    {
     "data": {
      "text/plain": [
       "0    {'neg': 0.0, 'neu': 1.0, 'pos': 0.0, 'compound...\n",
       "1    {'neg': 0.0, 'neu': 1.0, 'pos': 0.0, 'compound...\n",
       "2    {'neg': 0.0, 'neu': 0.828, 'pos': 0.172, 'comp...\n",
       "3    {'neg': 0.0, 'neu': 0.928, 'pos': 0.072, 'comp...\n",
       "4    {'neg': 0.0, 'neu': 0.765, 'pos': 0.235, 'comp...\n",
       "5    {'neg': 0.0, 'neu': 1.0, 'pos': 0.0, 'compound...\n",
       "6    {'neg': 0.111, 'neu': 0.672, 'pos': 0.216, 'co...\n",
       "7    {'neg': 0.07, 'neu': 0.773, 'pos': 0.158, 'com...\n",
       "8    {'neg': 0.0, 'neu': 1.0, 'pos': 0.0, 'compound...\n",
       "9    {'neg': 0.0, 'neu': 0.755, 'pos': 0.245, 'comp...\n",
       "Name: reviewText, dtype: object"
      ]
     },
     "execution_count": 22,
     "metadata": {},
     "output_type": "execute_result"
    }
   ],
   "source": [
    "df[\"reviewText\"][0:10].apply(lambda x: sia.polarity_scores(x))"
   ]
  },
  {
   "cell_type": "code",
   "execution_count": 23,
   "id": "1c8d8d33",
   "metadata": {},
   "outputs": [
    {
     "data": {
      "text/plain": [
       "0   0.00\n",
       "1   0.00\n",
       "2   0.40\n",
       "3   0.27\n",
       "4   0.86\n",
       "5   0.00\n",
       "6   0.72\n",
       "7   0.65\n",
       "8   0.00\n",
       "9   0.60\n",
       "Name: reviewText, dtype: float64"
      ]
     },
     "execution_count": 23,
     "metadata": {},
     "output_type": "execute_result"
    }
   ],
   "source": [
    "df[\"reviewText\"][0:10].apply(lambda x: sia.polarity_scores(x)[\"compound\"])"
   ]
  },
  {
   "cell_type": "code",
   "execution_count": 24,
   "id": "7b76c3fe",
   "metadata": {},
   "outputs": [
    {
     "data": {
      "text/html": [
       "<div>\n",
       "<style scoped>\n",
       "    .dataframe tbody tr th:only-of-type {\n",
       "        vertical-align: middle;\n",
       "    }\n",
       "\n",
       "    .dataframe tbody tr th {\n",
       "        vertical-align: top;\n",
       "    }\n",
       "\n",
       "    .dataframe thead th {\n",
       "        text-align: right;\n",
       "    }\n",
       "</style>\n",
       "<table border=\"1\" class=\"dataframe\">\n",
       "  <thead>\n",
       "    <tr style=\"text-align: right;\">\n",
       "      <th></th>\n",
       "      <th>reviewerID</th>\n",
       "      <th>asin</th>\n",
       "      <th>reviewerName</th>\n",
       "      <th>helpful</th>\n",
       "      <th>reviewText</th>\n",
       "      <th>overall</th>\n",
       "      <th>summary</th>\n",
       "      <th>unixReviewTime</th>\n",
       "      <th>reviewTime</th>\n",
       "      <th>day_diff</th>\n",
       "      <th>helpful_yes</th>\n",
       "      <th>total_vote</th>\n",
       "      <th>polarity_score</th>\n",
       "    </tr>\n",
       "  </thead>\n",
       "  <tbody>\n",
       "    <tr>\n",
       "      <th>0</th>\n",
       "      <td>A3SBTW3WS4IQSN</td>\n",
       "      <td>B007WTAJTO</td>\n",
       "      <td>NaN</td>\n",
       "      <td>[0, 0]</td>\n",
       "      <td>issu</td>\n",
       "      <td>4.00</td>\n",
       "      <td>Four Stars</td>\n",
       "      <td>1406073600</td>\n",
       "      <td>2014-07-23</td>\n",
       "      <td>138</td>\n",
       "      <td>0</td>\n",
       "      <td>0</td>\n",
       "      <td>0.00</td>\n",
       "    </tr>\n",
       "    <tr>\n",
       "      <th>1</th>\n",
       "      <td>A18K1ODH1I2MVB</td>\n",
       "      <td>B007WTAJTO</td>\n",
       "      <td>0mie</td>\n",
       "      <td>[0, 0]</td>\n",
       "      <td>purchas devic work advertis never much phone m...</td>\n",
       "      <td>5.00</td>\n",
       "      <td>MOAR SPACE!!!</td>\n",
       "      <td>1382659200</td>\n",
       "      <td>2013-10-25</td>\n",
       "      <td>409</td>\n",
       "      <td>0</td>\n",
       "      <td>0</td>\n",
       "      <td>0.00</td>\n",
       "    </tr>\n",
       "    <tr>\n",
       "      <th>2</th>\n",
       "      <td>A2FII3I2MBMUIA</td>\n",
       "      <td>B007WTAJTO</td>\n",
       "      <td>1K3</td>\n",
       "      <td>[0, 0]</td>\n",
       "      <td>work expect sprung higher capac think made bit...</td>\n",
       "      <td>4.00</td>\n",
       "      <td>nothing to really say....</td>\n",
       "      <td>1356220800</td>\n",
       "      <td>2012-12-23</td>\n",
       "      <td>715</td>\n",
       "      <td>0</td>\n",
       "      <td>0</td>\n",
       "      <td>0.40</td>\n",
       "    </tr>\n",
       "    <tr>\n",
       "      <th>3</th>\n",
       "      <td>A3H99DFEG68SR</td>\n",
       "      <td>B007WTAJTO</td>\n",
       "      <td>1m2</td>\n",
       "      <td>[0, 0]</td>\n",
       "      <td>think work greathad diff bran gb card went sou...</td>\n",
       "      <td>5.00</td>\n",
       "      <td>Great buy at this price!!!  *** UPDATE</td>\n",
       "      <td>1384992000</td>\n",
       "      <td>2013-11-21</td>\n",
       "      <td>382</td>\n",
       "      <td>0</td>\n",
       "      <td>0</td>\n",
       "      <td>0.27</td>\n",
       "    </tr>\n",
       "    <tr>\n",
       "      <th>4</th>\n",
       "      <td>A375ZM4U047O79</td>\n",
       "      <td>B007WTAJTO</td>\n",
       "      <td>2&amp;amp;1/2Men</td>\n",
       "      <td>[0, 0]</td>\n",
       "      <td>bought retail packag arriv legit orang envelop...</td>\n",
       "      <td>5.00</td>\n",
       "      <td>best deal around</td>\n",
       "      <td>1373673600</td>\n",
       "      <td>2013-07-13</td>\n",
       "      <td>513</td>\n",
       "      <td>0</td>\n",
       "      <td>0</td>\n",
       "      <td>0.86</td>\n",
       "    </tr>\n",
       "  </tbody>\n",
       "</table>\n",
       "</div>"
      ],
      "text/plain": [
       "       reviewerID        asin  reviewerName helpful                                         reviewText  overall                                 summary  unixReviewTime  reviewTime  day_diff  \\\n",
       "0  A3SBTW3WS4IQSN  B007WTAJTO           NaN  [0, 0]                                               issu     4.00                              Four Stars      1406073600  2014-07-23       138   \n",
       "1  A18K1ODH1I2MVB  B007WTAJTO          0mie  [0, 0]  purchas devic work advertis never much phone m...     5.00                           MOAR SPACE!!!      1382659200  2013-10-25       409   \n",
       "2  A2FII3I2MBMUIA  B007WTAJTO           1K3  [0, 0]  work expect sprung higher capac think made bit...     4.00               nothing to really say....      1356220800  2012-12-23       715   \n",
       "3   A3H99DFEG68SR  B007WTAJTO           1m2  [0, 0]  think work greathad diff bran gb card went sou...     5.00  Great buy at this price!!!  *** UPDATE      1384992000  2013-11-21       382   \n",
       "4  A375ZM4U047O79  B007WTAJTO  2&amp;1/2Men  [0, 0]  bought retail packag arriv legit orang envelop...     5.00                        best deal around      1373673600  2013-07-13       513   \n",
       "\n",
       "   helpful_yes  total_vote  polarity_score  \n",
       "0            0           0            0.00  \n",
       "1            0           0            0.00  \n",
       "2            0           0            0.40  \n",
       "3            0           0            0.27  \n",
       "4            0           0            0.86  "
      ]
     },
     "execution_count": 24,
     "metadata": {},
     "output_type": "execute_result"
    }
   ],
   "source": [
    "df[\"polarity_score\"] = df[\"reviewText\"].apply(lambda x: sia.polarity_scores(x)[\"compound\"])\n",
    "df.head()"
   ]
  },
  {
   "cell_type": "markdown",
   "id": "6ce01ced",
   "metadata": {},
   "source": [
    "Step 6: SENTIMENT MODELLING"
   ]
  },
  {
   "cell_type": "code",
   "execution_count": 25,
   "id": "2c3e1b7a",
   "metadata": {},
   "outputs": [
    {
     "data": {
      "text/plain": [
       "0    neg\n",
       "1    neg\n",
       "2    pos\n",
       "3    pos\n",
       "4    pos\n",
       "5    neg\n",
       "6    pos\n",
       "7    pos\n",
       "8    neg\n",
       "9    pos\n",
       "Name: reviewText, dtype: object"
      ]
     },
     "execution_count": 25,
     "metadata": {},
     "output_type": "execute_result"
    }
   ],
   "source": [
    "#Feature Prediction\n",
    "df[\"reviewText\"][0:10].apply(lambda x: \"pos\" if sia.polarity_scores(x)[\"compound\"] > 0 else \"neg\")"
   ]
  },
  {
   "cell_type": "code",
   "execution_count": 27,
   "id": "68472078",
   "metadata": {},
   "outputs": [
    {
     "data": {
      "text/html": [
       "<div>\n",
       "<style scoped>\n",
       "    .dataframe tbody tr th:only-of-type {\n",
       "        vertical-align: middle;\n",
       "    }\n",
       "\n",
       "    .dataframe tbody tr th {\n",
       "        vertical-align: top;\n",
       "    }\n",
       "\n",
       "    .dataframe thead th {\n",
       "        text-align: right;\n",
       "    }\n",
       "</style>\n",
       "<table border=\"1\" class=\"dataframe\">\n",
       "  <thead>\n",
       "    <tr style=\"text-align: right;\">\n",
       "      <th></th>\n",
       "      <th>reviewerID</th>\n",
       "      <th>asin</th>\n",
       "      <th>reviewerName</th>\n",
       "      <th>helpful</th>\n",
       "      <th>reviewText</th>\n",
       "      <th>overall</th>\n",
       "      <th>summary</th>\n",
       "      <th>unixReviewTime</th>\n",
       "      <th>reviewTime</th>\n",
       "      <th>day_diff</th>\n",
       "      <th>helpful_yes</th>\n",
       "      <th>total_vote</th>\n",
       "      <th>polarity_score</th>\n",
       "      <th>sentiment_label</th>\n",
       "    </tr>\n",
       "  </thead>\n",
       "  <tbody>\n",
       "    <tr>\n",
       "      <th>0</th>\n",
       "      <td>A3SBTW3WS4IQSN</td>\n",
       "      <td>B007WTAJTO</td>\n",
       "      <td>NaN</td>\n",
       "      <td>[0, 0]</td>\n",
       "      <td>issu</td>\n",
       "      <td>4.00</td>\n",
       "      <td>Four Stars</td>\n",
       "      <td>1406073600</td>\n",
       "      <td>2014-07-23</td>\n",
       "      <td>138</td>\n",
       "      <td>0</td>\n",
       "      <td>0</td>\n",
       "      <td>0.00</td>\n",
       "      <td>neg</td>\n",
       "    </tr>\n",
       "    <tr>\n",
       "      <th>1</th>\n",
       "      <td>A18K1ODH1I2MVB</td>\n",
       "      <td>B007WTAJTO</td>\n",
       "      <td>0mie</td>\n",
       "      <td>[0, 0]</td>\n",
       "      <td>purchas devic work advertis never much phone m...</td>\n",
       "      <td>5.00</td>\n",
       "      <td>MOAR SPACE!!!</td>\n",
       "      <td>1382659200</td>\n",
       "      <td>2013-10-25</td>\n",
       "      <td>409</td>\n",
       "      <td>0</td>\n",
       "      <td>0</td>\n",
       "      <td>0.00</td>\n",
       "      <td>neg</td>\n",
       "    </tr>\n",
       "    <tr>\n",
       "      <th>2</th>\n",
       "      <td>A2FII3I2MBMUIA</td>\n",
       "      <td>B007WTAJTO</td>\n",
       "      <td>1K3</td>\n",
       "      <td>[0, 0]</td>\n",
       "      <td>work expect sprung higher capac think made bit...</td>\n",
       "      <td>4.00</td>\n",
       "      <td>nothing to really say....</td>\n",
       "      <td>1356220800</td>\n",
       "      <td>2012-12-23</td>\n",
       "      <td>715</td>\n",
       "      <td>0</td>\n",
       "      <td>0</td>\n",
       "      <td>0.40</td>\n",
       "      <td>pos</td>\n",
       "    </tr>\n",
       "    <tr>\n",
       "      <th>3</th>\n",
       "      <td>A3H99DFEG68SR</td>\n",
       "      <td>B007WTAJTO</td>\n",
       "      <td>1m2</td>\n",
       "      <td>[0, 0]</td>\n",
       "      <td>think work greathad diff bran gb card went sou...</td>\n",
       "      <td>5.00</td>\n",
       "      <td>Great buy at this price!!!  *** UPDATE</td>\n",
       "      <td>1384992000</td>\n",
       "      <td>2013-11-21</td>\n",
       "      <td>382</td>\n",
       "      <td>0</td>\n",
       "      <td>0</td>\n",
       "      <td>0.27</td>\n",
       "      <td>pos</td>\n",
       "    </tr>\n",
       "    <tr>\n",
       "      <th>4</th>\n",
       "      <td>A375ZM4U047O79</td>\n",
       "      <td>B007WTAJTO</td>\n",
       "      <td>2&amp;amp;1/2Men</td>\n",
       "      <td>[0, 0]</td>\n",
       "      <td>bought retail packag arriv legit orang envelop...</td>\n",
       "      <td>5.00</td>\n",
       "      <td>best deal around</td>\n",
       "      <td>1373673600</td>\n",
       "      <td>2013-07-13</td>\n",
       "      <td>513</td>\n",
       "      <td>0</td>\n",
       "      <td>0</td>\n",
       "      <td>0.86</td>\n",
       "      <td>pos</td>\n",
       "    </tr>\n",
       "    <tr>\n",
       "      <th>5</th>\n",
       "      <td>A2IDCSC6NVONIZ</td>\n",
       "      <td>B007WTAJTO</td>\n",
       "      <td>2Cents!</td>\n",
       "      <td>[0, 0]</td>\n",
       "      <td>mini storag doesnt anyth els suppos purchas ad...</td>\n",
       "      <td>5.00</td>\n",
       "      <td>Not a lot to really be said</td>\n",
       "      <td>1367193600</td>\n",
       "      <td>2013-04-29</td>\n",
       "      <td>588</td>\n",
       "      <td>0</td>\n",
       "      <td>0</td>\n",
       "      <td>0.00</td>\n",
       "      <td>neg</td>\n",
       "    </tr>\n",
       "    <tr>\n",
       "      <th>6</th>\n",
       "      <td>A26YHXZD5UFPVQ</td>\n",
       "      <td>B007WTAJTO</td>\n",
       "      <td>2K1Toaster</td>\n",
       "      <td>[0, 0]</td>\n",
       "      <td>phone never skip beat file transfer speedi cor...</td>\n",
       "      <td>5.00</td>\n",
       "      <td>Works well</td>\n",
       "      <td>1382140800</td>\n",
       "      <td>2013-10-19</td>\n",
       "      <td>415</td>\n",
       "      <td>0</td>\n",
       "      <td>0</td>\n",
       "      <td>0.72</td>\n",
       "      <td>pos</td>\n",
       "    </tr>\n",
       "    <tr>\n",
       "      <th>7</th>\n",
       "      <td>A3CW0ZLUO5X2B1</td>\n",
       "      <td>B007WTAJTO</td>\n",
       "      <td>35-year Technology Consumer \"8-tracks to 802.11\"</td>\n",
       "      <td>[0, 0]</td>\n",
       "      <td>hard believ afford digit becom gb devic one qu...</td>\n",
       "      <td>5.00</td>\n",
       "      <td>32 GB for less than two sawbucks...what's not ...</td>\n",
       "      <td>1404950400</td>\n",
       "      <td>2014-10-07</td>\n",
       "      <td>62</td>\n",
       "      <td>0</td>\n",
       "      <td>0</td>\n",
       "      <td>0.65</td>\n",
       "      <td>pos</td>\n",
       "    </tr>\n",
       "    <tr>\n",
       "      <th>8</th>\n",
       "      <td>A2CYJO155QP33S</td>\n",
       "      <td>B007WTAJTO</td>\n",
       "      <td>4evryoung</td>\n",
       "      <td>[1, 1]</td>\n",
       "      <td>work htc rezound run short space gb sandisk or...</td>\n",
       "      <td>5.00</td>\n",
       "      <td>Loads of room</td>\n",
       "      <td>1395619200</td>\n",
       "      <td>2014-03-24</td>\n",
       "      <td>259</td>\n",
       "      <td>1</td>\n",
       "      <td>1</td>\n",
       "      <td>0.00</td>\n",
       "      <td>neg</td>\n",
       "    </tr>\n",
       "    <tr>\n",
       "      <th>9</th>\n",
       "      <td>A2S7XG3ZC4VGOQ</td>\n",
       "      <td>B007WTAJTO</td>\n",
       "      <td>53rdcard</td>\n",
       "      <td>[0, 0]</td>\n",
       "      <td>galaxi super fast card total happi happi still...</td>\n",
       "      <td>5.00</td>\n",
       "      <td>works great</td>\n",
       "      <td>1381449600</td>\n",
       "      <td>2013-11-10</td>\n",
       "      <td>393</td>\n",
       "      <td>0</td>\n",
       "      <td>0</td>\n",
       "      <td>0.60</td>\n",
       "      <td>pos</td>\n",
       "    </tr>\n",
       "  </tbody>\n",
       "</table>\n",
       "</div>"
      ],
      "text/plain": [
       "       reviewerID        asin                                      reviewerName helpful                                         reviewText  overall  \\\n",
       "0  A3SBTW3WS4IQSN  B007WTAJTO                                               NaN  [0, 0]                                               issu     4.00   \n",
       "1  A18K1ODH1I2MVB  B007WTAJTO                                              0mie  [0, 0]  purchas devic work advertis never much phone m...     5.00   \n",
       "2  A2FII3I2MBMUIA  B007WTAJTO                                               1K3  [0, 0]  work expect sprung higher capac think made bit...     4.00   \n",
       "3   A3H99DFEG68SR  B007WTAJTO                                               1m2  [0, 0]  think work greathad diff bran gb card went sou...     5.00   \n",
       "4  A375ZM4U047O79  B007WTAJTO                                      2&amp;1/2Men  [0, 0]  bought retail packag arriv legit orang envelop...     5.00   \n",
       "5  A2IDCSC6NVONIZ  B007WTAJTO                                           2Cents!  [0, 0]  mini storag doesnt anyth els suppos purchas ad...     5.00   \n",
       "6  A26YHXZD5UFPVQ  B007WTAJTO                                        2K1Toaster  [0, 0]  phone never skip beat file transfer speedi cor...     5.00   \n",
       "7  A3CW0ZLUO5X2B1  B007WTAJTO  35-year Technology Consumer \"8-tracks to 802.11\"  [0, 0]  hard believ afford digit becom gb devic one qu...     5.00   \n",
       "8  A2CYJO155QP33S  B007WTAJTO                                         4evryoung  [1, 1]  work htc rezound run short space gb sandisk or...     5.00   \n",
       "9  A2S7XG3ZC4VGOQ  B007WTAJTO                                          53rdcard  [0, 0]  galaxi super fast card total happi happi still...     5.00   \n",
       "\n",
       "                                             summary  unixReviewTime  reviewTime  day_diff  helpful_yes  total_vote  polarity_score sentiment_label  \n",
       "0                                         Four Stars      1406073600  2014-07-23       138            0           0            0.00             neg  \n",
       "1                                      MOAR SPACE!!!      1382659200  2013-10-25       409            0           0            0.00             neg  \n",
       "2                          nothing to really say....      1356220800  2012-12-23       715            0           0            0.40             pos  \n",
       "3             Great buy at this price!!!  *** UPDATE      1384992000  2013-11-21       382            0           0            0.27             pos  \n",
       "4                                   best deal around      1373673600  2013-07-13       513            0           0            0.86             pos  \n",
       "5                        Not a lot to really be said      1367193600  2013-04-29       588            0           0            0.00             neg  \n",
       "6                                         Works well      1382140800  2013-10-19       415            0           0            0.72             pos  \n",
       "7  32 GB for less than two sawbucks...what's not ...      1404950400  2014-10-07        62            0           0            0.65             pos  \n",
       "8                                      Loads of room      1395619200  2014-03-24       259            1           1            0.00             neg  \n",
       "9                                        works great      1381449600  2013-11-10       393            0           0            0.60             pos  "
      ]
     },
     "execution_count": 27,
     "metadata": {},
     "output_type": "execute_result"
    }
   ],
   "source": [
    "df[\"sentiment_label\"] = df[\"reviewText\"].apply(lambda x: \"pos\" if sia.polarity_scores(x)[\"compound\"] > 0 else \"neg\")\n",
    "df.head(10)"
   ]
  },
  {
   "cell_type": "code",
   "execution_count": 28,
   "id": "2749ec66",
   "metadata": {},
   "outputs": [
    {
     "data": {
      "text/plain": [
       "pos    3678\n",
       "neg    1237\n",
       "Name: sentiment_label, dtype: int64"
      ]
     },
     "execution_count": 28,
     "metadata": {},
     "output_type": "execute_result"
    }
   ],
   "source": [
    "#ideating positive and negative sentiments in total\n",
    "df[\"sentiment_label\"].value_counts()"
   ]
  },
  {
   "cell_type": "code",
   "execution_count": 30,
   "id": "62b31f89",
   "metadata": {},
   "outputs": [],
   "source": [
    "df[\"sentiment_label\"] = LabelEncoder().fit_transform(df[\"sentiment_label\"])\n",
    "\n",
    "X = df[\"reviewText\"]\n",
    "y = df[\"sentiment_label\"]"
   ]
  },
  {
   "cell_type": "code",
   "execution_count": 32,
   "id": "05d9d7cb",
   "metadata": {},
   "outputs": [
    {
     "data": {
      "text/plain": [
       "array([[0.        , 0.46979139, 0.58028582, 0.38408524, 0.        ,\n",
       "        0.        , 0.38408524, 0.        , 0.38408524],\n",
       "       [0.        , 0.6876236 , 0.        , 0.28108867, 0.        ,\n",
       "        0.53864762, 0.28108867, 0.        , 0.28108867],\n",
       "       [0.51184851, 0.        , 0.        , 0.26710379, 0.51184851,\n",
       "        0.        , 0.26710379, 0.51184851, 0.26710379],\n",
       "       [0.        , 0.46979139, 0.58028582, 0.38408524, 0.        ,\n",
       "        0.        , 0.38408524, 0.        , 0.38408524]])"
      ]
     },
     "execution_count": 32,
     "metadata": {},
     "output_type": "execute_result"
    }
   ],
   "source": [
    "from sklearn.feature_extraction.text import TfidfVectorizer\n",
    "vectorizer = TfidfVectorizer(analyzer='word')\n",
    "X_w = vectorizer.fit_transform(corpus)\n",
    "vectorizer.get_feature_names()\n",
    "X_w.toarray()"
   ]
  },
  {
   "cell_type": "code",
   "execution_count": 33,
   "id": "92099934",
   "metadata": {},
   "outputs": [],
   "source": [
    "tf_idf_word_vectorizer = TfidfVectorizer()\n",
    "X_tf_idf_word = tf_idf_word_vectorizer.fit_transform(X)"
   ]
  },
  {
   "cell_type": "code",
   "execution_count": 31,
   "id": "b4b5bc5e",
   "metadata": {},
   "outputs": [],
   "source": [
    "from sklearn.feature_extraction.text import CountVectorizer\n",
    "\n",
    "corpus = ['This is the first document.',\n",
    "          'This document is the second document.',\n",
    "          'And this is the third one.',\n",
    "          'Is this the first document?']"
   ]
  },
  {
   "cell_type": "code",
   "execution_count": 37,
   "id": "59a0bb83",
   "metadata": {},
   "outputs": [
    {
     "data": {
      "text/plain": [
       "array([[0, 0, 0, ..., 0, 0, 0],\n",
       "       [0, 0, 0, ..., 0, 0, 0],\n",
       "       [0, 0, 0, ..., 0, 0, 0],\n",
       "       [0, 0, 0, ..., 0, 0, 0],\n",
       "       [0, 0, 0, ..., 0, 0, 0]], dtype=int64)"
      ]
     },
     "execution_count": 37,
     "metadata": {},
     "output_type": "execute_result"
    }
   ],
   "source": [
    "vectorizer = CountVectorizer()\n",
    "X_count = vectorizer.fit_transform(X)\n",
    "\n",
    "vectorizer.get_feature_names()[10:15]\n",
    "X_count.toarray()[10:15]"
   ]
  },
  {
   "cell_type": "code",
   "execution_count": 34,
   "id": "0aef015e",
   "metadata": {},
   "outputs": [
    {
     "data": {
      "text/plain": [
       "array([1])"
      ]
     },
     "execution_count": 34,
     "metadata": {},
     "output_type": "execute_result"
    }
   ],
   "source": [
    "#MODEL\n",
    "log_model = LogisticRegression().fit(X_tf_idf_word, y)\n",
    "\n",
    "cross_val_score(log_model,\n",
    "                X_tf_idf_word,\n",
    "                y, scoring=\"accuracy\",\n",
    "                cv=5).mean()\n",
    "\n",
    "yeni_yorum = pd.Series(\"this product is great\")\n",
    "yeni_yorum = pd.Series(\"look at that shit very bad\")\n",
    "yeni_yorum = pd.Series(\"it was good but I am sure that it fits me\")\n",
    "\n",
    "yeni_yorum = CountVectorizer().fit(X).transform(yeni_yorum)\n",
    "log_model.predict(yeni_yorum)"
   ]
  },
  {
   "cell_type": "code",
   "execution_count": 35,
   "id": "e949c9a4",
   "metadata": {},
   "outputs": [
    {
     "data": {
      "text/plain": [
       "0    memori card ultra fast android phone bit costl...\n",
       "dtype: object"
      ]
     },
     "execution_count": 35,
     "metadata": {},
     "output_type": "execute_result"
    }
   ],
   "source": [
    "random_review = pd.Series(df[\"reviewText\"].sample(1).values)\n",
    "random_review"
   ]
  },
  {
   "cell_type": "markdown",
   "id": "b0b24f67",
   "metadata": {},
   "source": [
    "Step 7: ACCURACY METRICS"
   ]
  },
  {
   "cell_type": "code",
   "execution_count": 38,
   "id": "a8334295",
   "metadata": {},
   "outputs": [
    {
     "data": {
      "text/plain": [
       "0.8331637843336723"
      ]
     },
     "execution_count": 38,
     "metadata": {},
     "output_type": "execute_result"
    }
   ],
   "source": [
    "#Count Vectors\n",
    "rf_model = RandomForestClassifier().fit(X_count, y)\n",
    "cross_val_score(rf_model, X_count, y, cv=5, n_jobs=-1).mean()"
   ]
  },
  {
   "cell_type": "code",
   "execution_count": 39,
   "id": "0a555a90",
   "metadata": {},
   "outputs": [
    {
     "data": {
      "text/plain": [
       "0.8022380467955239"
      ]
     },
     "execution_count": 39,
     "metadata": {},
     "output_type": "execute_result"
    }
   ],
   "source": [
    "#Tf-IDF WordLevel\n",
    "rf_model = RandomForestClassifier().fit(X_tf_idf_word, y)\n",
    "cross_val_score(rf_model, X_tf_idf_word, y, cv=5, n_jobs=-1).mean()"
   ]
  },
  {
   "cell_type": "code",
   "execution_count": 43,
   "id": "59a37eb5",
   "metadata": {},
   "outputs": [
    {
     "name": "stdout",
     "output_type": "stream",
     "text": [
      "Fitting 5 folds for each of 108 candidates, totalling 540 fits\n"
     ]
    }
   ],
   "source": [
    "rf_model = RandomForestClassifier(random_state=17)\n",
    "\n",
    "rf_params = {\"max_depth\": [5, 8, None],\n",
    "             \"max_features\": [5, 7, \"auto\"],\n",
    "             \"min_samples_split\": [2, 5, 8, 20],\n",
    "             \"n_estimators\": [100, 200, 500]}\n",
    "\n",
    "rf_best_grid = GridSearchCV(rf_model,\n",
    "                            rf_params,\n",
    "                            cv=5,\n",
    "                            n_jobs=-1,\n",
    "                            verbose=True).fit(X_count, y)\n",
    "\n",
    "rf_best_grid.best_params_\n",
    "rf_final = rf_model.set_params(**rf_best_grid.best_params_, random_state=17).fit(X_count, y)\n",
    "cv_results = cross_validate(rf_final, X_count, y, cv=3, scoring=[\"accuracy\", \"f1\", \"roc_auc\"])"
   ]
  },
  {
   "cell_type": "code",
   "execution_count": 44,
   "id": "ccd2622c",
   "metadata": {},
   "outputs": [],
   "source": [
    "cv_results = cross_validate(rf_final, X_count, y, cv=3, scoring=[\"accuracy\", \"f1\", \"roc_auc\"])"
   ]
  },
  {
   "cell_type": "code",
   "execution_count": null,
   "id": "5833fc9e",
   "metadata": {},
   "outputs": [],
   "source": []
  }
 ],
 "metadata": {
  "kernelspec": {
   "display_name": "Python 3 (ipykernel)",
   "language": "python",
   "name": "python3"
  },
  "language_info": {
   "codemirror_mode": {
    "name": "ipython",
    "version": 3
   },
   "file_extension": ".py",
   "mimetype": "text/x-python",
   "name": "python",
   "nbconvert_exporter": "python",
   "pygments_lexer": "ipython3",
   "version": "3.9.13"
  }
 },
 "nbformat": 4,
 "nbformat_minor": 5
}
